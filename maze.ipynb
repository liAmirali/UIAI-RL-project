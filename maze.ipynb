{
 "cells": [
  {
   "cell_type": "code",
   "execution_count": 1,
   "id": "652fd141",
   "metadata": {},
   "outputs": [],
   "source": [
    "import gym\n",
    "import gym_maze\n",
    "import time\n",
    "import random\n",
    "import numpy\n",
    "import matplotlib.pyplot as plt"
   ]
  },
  {
   "cell_type": "code",
   "execution_count": 2,
   "id": "a461ea90-5887-4d99-a3ec-93a85ea0bc0d",
   "metadata": {},
   "outputs": [],
   "source": [
    "N = 0\n",
    "E = 1\n",
    "S = 2\n",
    "W = 3"
   ]
  },
  {
   "cell_type": "code",
   "execution_count": 3,
   "id": "8fd5156f-3ef9-4ebf-b77b-74013422d4b6",
   "metadata": {},
   "outputs": [],
   "source": [
    "SIZE = 10"
   ]
  },
  {
   "cell_type": "code",
   "execution_count": 4,
   "id": "7a1d3ad9",
   "metadata": {},
   "outputs": [],
   "source": [
    "def draw_values(data, cell_width=1, cell_height=1):\n",
    "    # Prepare data for plotting\n",
    "    values = [data.get(i, 0) for i in range(100)]\n",
    "\n",
    "    grid_values = [values[i:i+10] for i in range(0, len(values), 10)]\n",
    "\n",
    "    # Calculate the total size of the figure\n",
    "    fig_width = 10 * cell_width\n",
    "    fig_height = 10 * cell_height\n",
    "\n",
    "    # Create the plot with specified figure size\n",
    "    plt.figure(figsize=(fig_width, fig_height))\n",
    "    plt.imshow(grid_values, cmap='viridis', interpolation='nearest')\n",
    "\n",
    "    # Add text annotations with values formatted to 3 decimal places\n",
    "    for i in range(10):\n",
    "        for j in range(10):\n",
    "            plt.text(j, i, '{:.3f}'.format(grid_values[i][j]), ha='center', va='center', color='black')\n",
    "\n",
    "    # Customize plot aesthetics\n",
    "    plt.title('Grid Visualization')\n",
    "    plt.colorbar(label='Values')\n",
    "    plt.xticks(range(10), range(10))\n",
    "    plt.yticks(range(10), range(10))\n",
    "    plt.xlabel('Columns')\n",
    "    plt.ylabel('Rows')\n",
    "    plt.grid(visible=False)\n",
    "    plt.show()"
   ]
  },
  {
   "cell_type": "code",
   "execution_count": 5,
   "id": "55dd8b74",
   "metadata": {},
   "outputs": [],
   "source": [
    "def draw_grid(directions, no_arrow_positions = []):\n",
    "    rows = 10\n",
    "    columns = 10\n",
    "    cell_size = 1\n",
    "\n",
    "    fig, ax = plt.subplots()\n",
    "\n",
    "    for row in range(rows):\n",
    "        for col in range(columns):\n",
    "            index = row * columns + col\n",
    "            direction = directions.get(index, None)\n",
    "\n",
    "            if direction is not None and index not in no_arrow_positions:\n",
    "                x = col * cell_size + cell_size / 2\n",
    "                y = (rows - 1 - row) * cell_size + cell_size / 2\n",
    "\n",
    "                if direction == 0:  # Upward arrow\n",
    "                    ax.arrow(x, y, 0, cell_size / 4, head_width=0.2, head_length=0.2, fc='black', ec='black')\n",
    "                elif direction == 2:  # Right arrow\n",
    "                    ax.arrow(x, y, cell_size / 4, 0, head_width=0.2, head_length=0.2, fc='black', ec='black')\n",
    "                elif direction == 1:  # Downward arrow\n",
    "                    ax.arrow(x, y, 0, -cell_size / 4, head_width=0.2, head_length=0.2, fc='black', ec='black')\n",
    "                elif direction == 3:  # Left arrow\n",
    "                    ax.arrow(x, y, -cell_size / 4, 0, head_width=0.2, head_length=0.2, fc='black', ec='black')\n",
    "            elif index in no_arrow_positions:\n",
    "                c = 'black'\n",
    "                if index == 47:\n",
    "                    c = 'green'\n",
    "                    \n",
    "                ax.add_patch(plt.Rectangle((col, rows - 1 - row), 1, 1, color=c))\n",
    "\n",
    "    ax.set_aspect('equal')\n",
    "    ax.set_xlim(0, columns)\n",
    "    ax.set_ylim(0, rows)\n",
    "    ax.set_xticks([])\n",
    "    ax.set_yticks([])\n",
    "\n",
    "    plt.show()"
   ]
  },
  {
   "cell_type": "code",
   "execution_count": 6,
   "id": "18571205",
   "metadata": {},
   "outputs": [],
   "source": [
    "def map_state(state):\n",
    "    return state[1] * ROW + state[0] "
   ]
  },
  {
   "cell_type": "code",
   "execution_count": 7,
   "id": "c7c83d73-00fb-49a4-a30e-de0db06c997b",
   "metadata": {},
   "outputs": [],
   "source": [
    "def get_col_row(state):\n",
    "    return (state % COLUMN, state // COLUMN)"
   ]
  },
  {
   "cell_type": "code",
   "execution_count": 8,
   "id": "79ac5322-643d-4648-b75b-fe3cb232169f",
   "metadata": {},
   "outputs": [],
   "source": [
    "def get_deterministic_state(state, action):\n",
    "    c, r = get_col_row(state)\n",
    "    if action == N:\n",
    "        if r == 0:\n",
    "            return state\n",
    "        return state - COLUMN\n",
    "\n",
    "    if action == E:\n",
    "        if c == SIZE - 1:\n",
    "            return state\n",
    "        return state + 1\n",
    "\n",
    "    if action == S:\n",
    "        if r == SIZE - 1:\n",
    "            return state\n",
    "        return state + COLUMN\n",
    "\n",
    "    if action == W:\n",
    "        if c == 0:\n",
    "            return state\n",
    "        return state - 1"
   ]
  },
  {
   "cell_type": "code",
   "execution_count": 9,
   "id": "3eb2348a",
   "metadata": {},
   "outputs": [],
   "source": [
    "def select_action(Q, s, epsilon = 1):\n",
    "    if(random.random() < epsilon):\n",
    "        return random.randint(0, 3)\n",
    "    else:\n",
    "        action = 0\n",
    "        for i in range(4):\n",
    "            if Q[s][i] > Q[s][action]:\n",
    "                action = i\n",
    "\n",
    "        return action"
   ]
  },
  {
   "cell_type": "code",
   "execution_count": null,
   "id": "9fa6fcf4",
   "metadata": {
    "scrolled": true
   },
   "outputs": [
    {
     "name": "stdout",
     "output_type": "stream",
     "text": [
      "580\n",
      "1416\n",
      "1767\n",
      "1988\n",
      "2859\n",
      "4572\n",
      "5420\n",
      "5594\n",
      "6164\n",
      "7989\n",
      "9530\n",
      "9744\n",
      "9927\n",
      "12262\n",
      "12728\n",
      "13163\n",
      "13332\n",
      "13974\n",
      "14434\n",
      "14448\n",
      "14752\n",
      "15934\n",
      "16092\n",
      "16611\n",
      "16784\n",
      "16949\n",
      "17050\n",
      "17505\n",
      "19008\n",
      "19226\n",
      "19673\n",
      "20778\n",
      "23047\n",
      "25188\n",
      "26419\n",
      "27906\n",
      "28434\n",
      "29018\n",
      "29522\n",
      "31825\n"
     ]
    }
   ],
   "source": [
    "# Create an environment\n",
    "env = gym.make(\"maze-random-10x10-plus-v0\")\n",
    "observation = env.reset()\n",
    "\n",
    "# Gets the size of the maze\n",
    "COLUMN, ROW = env.maze_size\n",
    "CELLS = COLUMN * ROW\n",
    "\n",
    "# Define the maximum number of iterations\n",
    "NUM_EPISODES = 1000000\n",
    "\n",
    "learning_rate = 0.01\n",
    "gamma = 0.99\n",
    "epsilon = 1\n",
    "\n",
    "Q = {}\n",
    "for i in range(CELLS):\n",
    "    Q[i] = [0 for j in range(4)]\n",
    "\n",
    "# Transition Function\n",
    "transition = {}\n",
    "\n",
    "state = observation\n",
    "success = 0\n",
    "for episode in range(NUM_EPISODES):\n",
    "    env.render()\n",
    "    time.sleep(0.1)\n",
    "    mapped_state = map_state(state)\n",
    "\n",
    "    # Updating the transition function\n",
    "    if mapped_state not in transition:\n",
    "        transition[mapped_state] = {}\n",
    "    \n",
    "    action = select_action(Q, mapped_state, epsilon)\n",
    "\n",
    "    if action not in transition[mapped_state]:\n",
    "        transition[mapped_state][action] = []\n",
    "\n",
    "    # Linear Decay of epsilon\n",
    "    epsilon -= (1 / NUM_EPISODES)\n",
    "             \n",
    "    next_state, reward, done, truncated = env.step(action)\n",
    "    mapped_next_state = map_state(next_state)\n",
    "\n",
    "    if mapped_next_state not in transition[mapped_state][action]:\n",
    "        transition[mapped_state][action].append(mapped_next_state)\n",
    "\n",
    "    # Calculating sum of prob*Q(sp,a)\n",
    "    p_q_val = 0\n",
    "    for sp in transition[mapped_state][action]:\n",
    "        if get_deterministic_state(mapped_state, action) == sp:\n",
    "            prob = 0.6\n",
    "        else:\n",
    "            prob = 0.2\n",
    "        p_q_val += prob * Q[mapped_next_state][action]\n",
    "    \n",
    "    Q[mapped_state][action] += learning_rate * (reward + gamma * max(Q[mapped_next_state]) - Q[mapped_state][action])\n",
    "    # cnt += 1\n",
    "\n",
    "    state = next_state\n",
    "    \n",
    "    if mapped_next_state == CELLS - 1:\n",
    "        success += 1\n",
    "        print(episode)\n",
    "\n",
    "    if done or truncated:\n",
    "        observation = env.reset()\n",
    "        state = observation\n",
    "        \n",
    "env.render()\n",
    "time.sleep(10)\n",
    "# Close the environment\n",
    "env.close()"
   ]
  },
  {
   "cell_type": "code",
   "execution_count": null,
   "id": "cf8e0325",
   "metadata": {},
   "outputs": [],
   "source": [
    "print(NUM_EPISODES / (success * 10))"
   ]
  },
  {
   "cell_type": "code",
   "execution_count": null,
   "id": "9e713f33-a8c8-4333-a152-f7806faa9097",
   "metadata": {},
   "outputs": [],
   "source": [
    "print((success * 100) / NUM_EPISODES)"
   ]
  },
  {
   "cell_type": "code",
   "execution_count": null,
   "id": "59691ffd",
   "metadata": {},
   "outputs": [],
   "source": [
    "pi = {}\n",
    "V = {}\n",
    "\n",
    "for state in range(100):\n",
    "    mx = 0\n",
    "    for i in range(4):\n",
    "        if(Q[state][i] > Q[state][mx]):\n",
    "            mx = i\n",
    "            \n",
    "    pi[state] = mx\n",
    "    V[state] = Q[state][mx]"
   ]
  },
  {
   "cell_type": "code",
   "execution_count": null,
   "id": "7ef9e95d",
   "metadata": {},
   "outputs": [],
   "source": [
    "draw_grid(pi)"
   ]
  },
  {
   "cell_type": "code",
   "execution_count": null,
   "id": "3fe8147f",
   "metadata": {
    "scrolled": true
   },
   "outputs": [],
   "source": [
    "draw_values(V)"
   ]
  },
  {
   "cell_type": "code",
   "execution_count": null,
   "id": "15af1939",
   "metadata": {},
   "outputs": [],
   "source": [
    "Q"
   ]
  }
 ],
 "metadata": {
  "kernelspec": {
   "display_name": "ML-conda",
   "language": "python",
   "name": "ml-conda"
  },
  "language_info": {
   "codemirror_mode": {
    "name": "ipython",
    "version": 3
   },
   "file_extension": ".py",
   "mimetype": "text/x-python",
   "name": "python",
   "nbconvert_exporter": "python",
   "pygments_lexer": "ipython3",
   "version": "3.10.9"
  }
 },
 "nbformat": 4,
 "nbformat_minor": 5
}
